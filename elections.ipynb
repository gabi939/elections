{
 "cells": [
  {
   "cell_type": "code",
   "execution_count": 15,
   "metadata": {},
   "outputs": [
    {
     "name": "stdout",
     "output_type": "stream",
     "text": [
      "Requirement already satisfied: googletrans in c:\\users\\gabi9\\anaconda3\\lib\\site-packages (2.4.0)\n",
      "Requirement already satisfied: requests in c:\\users\\gabi9\\anaconda3\\lib\\site-packages (from googletrans) (2.22.0)\n",
      "Requirement already satisfied: chardet<3.1.0,>=3.0.2 in c:\\users\\gabi9\\anaconda3\\lib\\site-packages (from requests->googletrans) (3.0.4)\n",
      "Requirement already satisfied: idna<2.9,>=2.5 in c:\\users\\gabi9\\anaconda3\\lib\\site-packages (from requests->googletrans) (2.8)\n",
      "Requirement already satisfied: certifi>=2017.4.17 in c:\\users\\gabi9\\anaconda3\\lib\\site-packages (from requests->googletrans) (2019.11.28)\n",
      "Requirement already satisfied: urllib3!=1.25.0,!=1.25.1,<1.26,>=1.21.1 in c:\\users\\gabi9\\anaconda3\\lib\\site-packages (from requests->googletrans) (1.25.8)\n"
     ]
    }
   ],
   "source": [
    "!pip install googletrans"
   ]
  },
  {
   "cell_type": "code",
   "execution_count": 16,
   "metadata": {},
   "outputs": [],
   "source": [
    "import os\n",
    "import sys\n",
    "import pandas as pd\n",
    "import googletrans\n",
    "from googletrans import Translator"
   ]
  },
  {
   "cell_type": "code",
   "execution_count": 19,
   "metadata": {},
   "outputs": [
    {
     "name": "stdout",
     "output_type": "stream",
     "text": [
      "Index(['City name', 'City icon', 'Number of polling', 'Abazaab', 'Voters',\n",
      "       'Unfit', 'Kosher', 'Truth', 'third', 'Dem', 'Dated', 'Seventh', 'Zee',\n",
      "       'pure', 'It', 'Vicious strain', 'Teva', 'The', 'XVII', 'yen',\n",
      "       'Distributor', 'about', 'Dick', 'To', 'forgave', 'Meretz', 'V', 'Nez',\n",
      "       'Yes', 'Hawk', 'candle', 'Estate', 'Yes', 'Nn', 'Mouth', 'Paz',\n",
      "       'According to', 'Jug', 'Penn', 'Pecs', 'Hee', 'Court', 'Caza', 'Fleet',\n",
      "       'K.', 'Ki', 'nest', 'Volume', 'R', 'Shas'],\n",
      "      dtype='object')\n"
     ]
    }
   ],
   "source": [
    "DIR_PATH = r\"C:\\Users\\gabi9\\Desktop\\Dev\\python_dev\\elections\"\n",
    "CALPI = \"calpi\"\n",
    "SETTELMENT = \"settelments\"\n",
    "translator = Translator()\n",
    "\n",
    "\n",
    "def get_data(agg_type, num):\n",
    "    \"\"\"returns dataframe of the requested csv\n",
    "    \n",
    "    parameters\n",
    "    ----------\n",
    "    agg_type - aggregation type of the csv needed\n",
    "    num - election number\n",
    "    \n",
    "    return\n",
    "    ------\n",
    "    DataFrame\n",
    "    \"\"\"\n",
    "    if type(num) is not str:\n",
    "        num = str(num)\n",
    "    \n",
    "    path = os.path.join(DIR_PATH,num+agg_type+\".xlsx\")\n",
    "    df = pd.read_excel(path)\n",
    "    df_en = df.copy()\n",
    "    \n",
    "    df_en.rename(columns=lambda x: translator.translate(x,dest='en',src='he').text, inplace=True)\n",
    "    print(df_en.columns)\n",
    "    \n",
    "    \n",
    "    \n",
    "get_data(CALPI,21)    "
   ]
  },
  {
   "cell_type": "code",
   "execution_count": null,
   "metadata": {},
   "outputs": [],
   "source": []
  },
  {
   "cell_type": "code",
   "execution_count": null,
   "metadata": {},
   "outputs": [],
   "source": []
  }
 ],
 "metadata": {
  "kernelspec": {
   "display_name": "Python 3",
   "language": "python",
   "name": "python3"
  },
  "language_info": {
   "codemirror_mode": {
    "name": "ipython",
    "version": 3
   },
   "file_extension": ".py",
   "mimetype": "text/x-python",
   "name": "python",
   "nbconvert_exporter": "python",
   "pygments_lexer": "ipython3",
   "version": "3.7.6"
  }
 },
 "nbformat": 4,
 "nbformat_minor": 4
}

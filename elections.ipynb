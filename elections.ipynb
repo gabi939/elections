{
 "cells": [
  {
   "cell_type": "code",
   "execution_count": 15,
   "metadata": {},
   "outputs": [
    {
     "name": "stdout",
     "output_type": "stream",
     "text": [
      "Requirement already satisfied: googletrans in c:\\users\\gabi9\\anaconda3\\lib\\site-packages (2.4.0)\n",
      "Requirement already satisfied: requests in c:\\users\\gabi9\\anaconda3\\lib\\site-packages (from googletrans) (2.22.0)\n",
      "Requirement already satisfied: chardet<3.1.0,>=3.0.2 in c:\\users\\gabi9\\anaconda3\\lib\\site-packages (from requests->googletrans) (3.0.4)\n",
      "Requirement already satisfied: idna<2.9,>=2.5 in c:\\users\\gabi9\\anaconda3\\lib\\site-packages (from requests->googletrans) (2.8)\n",
      "Requirement already satisfied: certifi>=2017.4.17 in c:\\users\\gabi9\\anaconda3\\lib\\site-packages (from requests->googletrans) (2019.11.28)\n",
      "Requirement already satisfied: urllib3!=1.25.0,!=1.25.1,<1.26,>=1.21.1 in c:\\users\\gabi9\\anaconda3\\lib\\site-packages (from requests->googletrans) (1.25.8)\n"
     ]
    }
   ],
   "source": [
    "!pip install googletrans"
   ]
  },
  {
   "cell_type": "code",
   "execution_count": 20,
   "metadata": {},
   "outputs": [],
   "source": [
    "import os\n",
    "import sys\n",
    "import pandas as pd\n",
    "import googletrans\n",
    "from googletrans import Translator\n",
    "%matplotlib inline\n",
    "import matplotlib.pyplot as plt"
   ]
  },
  {
   "cell_type": "code",
   "execution_count": 18,
   "metadata": {},
   "outputs": [],
   "source": [
    "DIR_PATH = r\"C:\\Users\\gabi9\\Desktop\\Dev\\python_dev\\elections\"\n",
    "CALPI = \"calpi\"\n",
    "SETTELMENT = \"settelments\"\n",
    "translator = Translator()\n",
    "\n",
    "\n",
    "\n",
    "def get_data(agg_type, num):\n",
    "    \"\"\"returns dataframe of the requested csv\n",
    "    \n",
    "    parameters\n",
    "    ----------\n",
    "    agg_type - aggregation type of the csv needed\n",
    "    num - election number\n",
    "    \n",
    "    return\n",
    "    ------\n",
    "    DataFrame\n",
    "    \"\"\"\n",
    "    if type(num) is not str:\n",
    "        num = str(num)\n",
    "    \n",
    "    ROOT_PATH = os.path.abspath(os.getcwd())\n",
    "    path = os.path.join(ROOT_PATH,num+agg_type+\".xlsx\")\n",
    "    df = pd.read_excel(path)\n",
    "    df_en = df.copy()\n",
    "    \n",
    "    df_en.rename(columns=lambda x: translator.translate(x,dest='en',src='he').text, inplace=True)\n",
    "    return df_en\n",
    "    "
   ]
  },
  {
   "cell_type": "code",
   "execution_count": 21,
   "metadata": {},
   "outputs": [
    {
     "name": "stdout",
     "output_type": "stream",
     "text": [
      "Index(['City name', 'City icon', 'Number of polling', 'Abazaab', 'Voters',\n",
      "       'Unfit', 'Kosher', 'Truth', 'third', 'Dem', 'Dated', 'Seventh', 'Zee',\n",
      "       'pure', 'It', 'Vicious strain', 'Teva', 'The', 'XVII', 'yen',\n",
      "       'Distributor', 'about', 'Dick', 'To', 'forgave', 'Meretz', 'V', 'Nez',\n",
      "       'Yes', 'Hawk', 'candle', 'Estate', 'Yes', 'Nn', 'Mouth', 'Paz',\n",
      "       'According to', 'Jug', 'Penn', 'Pecs', 'Hee', 'Court', 'Caza', 'Fleet',\n",
      "       'K.', 'Ki', 'nest', 'Volume', 'R', 'Shas'],\n",
      "      dtype='object')\n"
     ]
    },
    {
     "data": {
      "text/plain": [
       "Text(0.5, 1.0, 'Company profit per month')"
      ]
     },
     "execution_count": 21,
     "metadata": {},
     "output_type": "execute_result"
    },
    {
     "data": {
      "image/png": "[encoded data removed]",
      "text/plain": [
       "<Figure size 432x288 with 1 Axes>"
      ]
     },
     "metadata": {
      "needs_background": "light"
     },
     "output_type": "display_data"
    }
   ],
   "source": [
    "df21=get_data(CALPI,21) \n",
    "plt.figure(1)\n",
    "plt.plot(df21['City name'], df21['Number of polling'], color='b')\n",
    "plt.xlabel('City name')\n",
    "plt.ylabel('Number of polling')\n",
    "plt.title('')"
   ]
  },
  {
   "cell_type": "code",
   "execution_count": null,
   "metadata": {},
   "outputs": [],
   "source": []
  }
 ],
 "metadata": {
  "kernelspec": {
   "display_name": "Python 3",
   "language": "python",
   "name": "python3"
  },
  "language_info": {
   "codemirror_mode": {
    "name": "ipython",
    "version": 3
   },
   "file_extension": ".py",
   "mimetype": "text/x-python",
   "name": "python",
   "nbconvert_exporter": "python",
   "pygments_lexer": "ipython3",
   "version": "3.7.4"
  }
 },
 "nbformat": 4,
 "nbformat_minor": 4
}

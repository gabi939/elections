{
 "cells": [
  {
   "cell_type": "code",
   "execution_count": 988,
   "metadata": {},
   "outputs": [],
   "source": [
    "import os\n",
    "import sys\n",
    "import pandas as pd\n",
    "import googletrans\n",
    "from googletrans import Translator\n",
    "import matplotlib.pyplot as plt\n",
    "from sklearn.cluster import KMeans \n",
    "import numpy as np\n",
    "from sklearn.model_selection import GridSearchCV\n"
   ]
  },
  {
   "cell_type": "code",
   "execution_count": 989,
   "metadata": {},
   "outputs": [],
   "source": [
    "# Constants\n",
    "ROOT_PATH = os.path.abspath(os.getcwd())\n",
    "SEED = 170\n",
    "\n",
    "# bycode 2018 excel\n",
    "BYCODE = \"bycode2018\"\n",
    "\n",
    "# index 2018 excel\n",
    "INDEX = \"index 2018\"\n",
    "NATURAL = \"Natural Area\"\n",
    "DISTRICT = \"District\"\n",
    "RELIGION = \"Religion\"\n",
    "SETTLEMENT_TYPE = \"Settlement Type\"\n",
    "\n",
    "\n",
    "# elections data\n",
    "CALPI = \"calpi\"\n",
    "SETTELMENT = \"settelments\"\n"
   ]
  },
  {
   "cell_type": "code",
   "execution_count": 990,
   "metadata": {},
   "outputs": [],
   "source": [
    "def inner_join(df_1,df_2,column_name):\n",
    "    \"\"\"makes inner-join between dataframes on the specified column\"\"\"\n",
    "    return pd.merge(left=df_1, right=df_2, left_on= column_name, right_on=column_name)\n",
    "\n",
    "def get_index(sheet):\n",
    "    \"returns dataframe of sheet from index 2018 excel\"\n",
    "    path = os.path.join(ROOT_PATH,INDEX+\".xlsx\")\n",
    "    return pd.read_excel(path, sheet_name=sheet)\n",
    "\n",
    "def get_bycode():\n",
    "    \"\"\"returns dataframe for bycode excel\"\"\"\n",
    "    path = os.path.join(ROOT_PATH,BYCODE+\".xlsx\")\n",
    "    return pd.read_excel(path)\n",
    "\n",
    "def get_data(agg_type, num):\n",
    "    \"\"\"returns dataframe of the requested .xlsx\"\"\" \n",
    "    if type(num) is not str:\n",
    "        num = str(num)\n",
    "        \n",
    "    path = os.path.join(ROOT_PATH,num+agg_type+\".xlsx\")\n",
    "    return pd.read_excel(path,dtype=object)"
   ]
  },
  {
   "cell_type": "code",
   "execution_count": 991,
   "metadata": {},
   "outputs": [],
   "source": [
    "def remove_small_parties(df,threshold):\n",
    "    \"\"\"remove parties that didnt pass the threshold\"\"\"\n",
    "    \n",
    "    for column in df.columns[7:]:\n",
    "            if df[column].sum() < threshold:\n",
    "                   df = df.drop(column,axis=1)\n",
    "    return df"
   ]
  },
  {
   "cell_type": "code",
   "execution_count": 992,
   "metadata": {},
   "outputs": [],
   "source": [
    "def total_voters(df):\n",
    "    \"ploting a barchar from dataframe\"\n",
    "    dict={}\n",
    "    for c in df.columns[7:]:\n",
    "        dict[c]=(df[c].sum()/df['valid votes'].sum())*100\n",
    "    plt.figure(figsize=(20,10))\n",
    "    plt.bar(range(len(dict)), list(dict.values()), align='center')\n",
    "    plt.ylabel('Voter turnout')\n",
    "    plt.xlabel('Parties')\n",
    "    plt.xticks(range(len(dict)), list(dict.keys()))\n",
    "    plt.show()"
   ]
  },
  {
   "cell_type": "code",
   "execution_count": 993,
   "metadata": {},
   "outputs": [],
   "source": [
    "def unite_parties (df):\n",
    "    \"\"\" unites small parties to factions\n",
    "    \n",
    "    We think those factions represent the israeli society\n",
    "    \"\"\"\n",
    "    \n",
    "    d={'United Torah Judaism':'Haredi','Shas':'Haredi', 'Avoda':'Left','Meretz':'Left',\n",
    "       'Consolidation of right-wing parties':'Right','Kolano':'Right','Israel is our Home':'Right','New Right':'Right',\n",
    "        'UAL-Balad':'Arab','Hadash':'Arab' ,'Gesher Avoda':'Left','Joint list':'Arab','right':'Right'\n",
    "        ,'Avoda-Meretz-Gesher':'Left'}\n",
    "    \n",
    "    faction=['Haredi','Right','Arab','Left']\n",
    "    for f in faction:\n",
    "        df.insert(len(df.columns),f ,0)\n",
    "    for c in  df.columns[7:]:\n",
    "        if c in d:\n",
    "            s=df[d[c]]+df[c]\n",
    "            df[d[c]]=s\n",
    "   \n",
    "    for c in d.keys():\n",
    "        if c in df.columns:\n",
    "              df=df.drop(c,axis=1)\n",
    "    return df"
   ]
  },
  {
   "cell_type": "code",
   "execution_count": 994,
   "metadata": {},
   "outputs": [],
   "source": [
    "def normalize_to_voting_ratios(df_original):\n",
    "    \"\"\"normalizing the votes according to proportion of votes per party\"\"\"\n",
    "    df = df_original.copy()\n",
    "    for i,r in df.iterrows():\n",
    "        for c in df.columns[2:]:\n",
    "            x = r[c]/r['valid votes']\n",
    "            df.at[i , c]=x\n",
    "    \n",
    "    colms_to_remove = [\"valid votes\"]\n",
    "    df = df.drop(labels = colms_to_remove,axis=1) \n",
    "    return df"
   ]
  },
  {
   "cell_type": "code",
   "execution_count": 995,
   "metadata": {},
   "outputs": [],
   "source": [
    "def unit_vector(vector):\n",
    "    \"\"\" Returns the unit vector of the vector.  \"\"\"\n",
    "    return vector / np.linalg.norm(vector)\n",
    "\n",
    "def angle_between(v1, v2):\n",
    "    \"\"\" \n",
    "    Returns the angle in radians between vectors 'v1' and 'v2'\n",
    "    \"\"\"\n",
    "    v1_u = unit_vector(v1)\n",
    "    v2_u = unit_vector(v2)\n",
    "    return np.arccos(np.clip(np.dot(v1_u, v2_u), -1.0, 1.0))\n",
    "\n",
    "def prepare_vectors(df):\n",
    "    \"\"\"calculates the distance and the angle of each vector from the base_vector\"\"\"\n",
    "    \n",
    "    matrix = [] \n",
    "    vector_base = np.zeros(df.shape[1])\n",
    "    vector_base.fill(1)\n",
    "\n",
    "    for row in df:\n",
    "        dist = np.linalg.norm(row)\n",
    "        angle = angle_between(vector_base,row)\n",
    "        matrix.append([dist,angle])\n",
    "        \n",
    "    return np.array(matrix)\n",
    "    "
   ]
  },
  {
   "cell_type": "code",
   "execution_count": 996,
   "metadata": {},
   "outputs": [],
   "source": [
    "def add_most_voted_colm(df):\n",
    "    \"\"\" adds a column of labels for the most voted faction \"\"\"\n",
    "    temp = df.copy()\n",
    "    temp.drop(labels = [\"code\"],axis=1,inplace = True)\n",
    "    \n",
    "    for c in temp.columns:\n",
    "        temp[c] = pd.to_numeric(temp[c])\n",
    "    \n",
    "    colm = temp.idxmax(axis=1)\n",
    "    df[\"chosen\"] = colm\n",
    "    return df\n",
    "        "
   ]
  },
  {
   "cell_type": "code",
   "execution_count": 998,
   "metadata": {},
   "outputs": [
    {
     "ename": "SyntaxError",
     "evalue": "invalid syntax (<ipython-input-998-e3cae43d9661>, line 11)",
     "output_type": "error",
     "traceback": [
      "\u001b[1;36m  File \u001b[1;32m\"<ipython-input-998-e3cae43d9661>\"\u001b[1;36m, line \u001b[1;32m11\u001b[0m\n\u001b[1;33m    x = col for group, col in zip(np.unique(df[groupby_var]).tolist())\u001b[0m\n\u001b[1;37m              ^\u001b[0m\n\u001b[1;31mSyntaxError\u001b[0m\u001b[1;31m:\u001b[0m invalid syntax\n"
     ]
    }
   ],
   "source": [
    "def barchar_group(df,x_var,groupby_var,size):\n",
    "    # Prepare data\n",
    "    df_agg = df.loc[:, [x_var, groupby_var]].groupby(groupby_var)\n",
    "    vals = [df[x_var].values.tolist() for i, df in df_agg]\n",
    "    \n",
    "    # Draw\n",
    "    plt.figure(figsize=(16,9), dpi= 80)\n",
    "    colors = [plt.cm.Spectral(i/float(len(vals)-1)) for i in range(len(vals))]\n",
    "    n, bins, patches = plt.hist(vals, df[x_var].unique().__len__(), stacked=False, density=False, color=colors[:len(vals)])\n",
    "    \n",
    "    \n",
    "    # Decoration\n",
    "    plt.legend({group:col for group, col in zip(np.unique(df[groupby_var]).tolist(), colors[:len(vals)])})\n",
    "    plt.title(f\"Stacked Histogram of ${x_var}$ colored by ${groupby_var}$\", fontsize=22)\n",
    "    plt.xlabel(x_var)\n",
    "    plt.ylabel(\"Frequency\")\n",
    "    plt.ylim(0, size)\n",
    "    plt.xticks(ticks=bins, labels=np.unique(df[x_var]).tolist(), rotation=90, horizontalalignment='left')\n",
    "    plt.show()"
   ]
  },
  {
   "cell_type": "code",
   "execution_count": null,
   "metadata": {},
   "outputs": [],
   "source": []
  },
  {
   "cell_type": "code",
   "execution_count": null,
   "metadata": {},
   "outputs": [],
   "source": [
    "def remove_metadata(df):\n",
    "    return df.drop([\"name\",\"Holders of voting rights\",\"Voters\",\"Disqualified\",\"committee code\"],axis=1)   "
   ]
  },
  {
   "cell_type": "code",
   "execution_count": null,
   "metadata": {},
   "outputs": [],
   "source": [
    "df_21 = get_data(SETTELMENT,21)\n",
    "df_21 = remove_small_parties(df_21,135720)\n",
    "df = unite_parties(df_21)\n",
    "df_base = remove_metadata(df)\n",
    "df_normalized = normalize_to_voting_ratios(df_base)\n",
    "df_base"
   ]
  },
  {
   "cell_type": "code",
   "execution_count": null,
   "metadata": {},
   "outputs": [],
   "source": [
    "vectors = df_normalized[df_normalized.columns.difference(['code'])]\n",
    "vectors = prepare_vectors(vectors.values)"
   ]
  },
  {
   "cell_type": "code",
   "execution_count": null,
   "metadata": {
    "scrolled": false
   },
   "outputs": [],
   "source": [
    "param = {\n",
    "    \"n_clusters\":[3,6],\n",
    "    \"init\":[\"k-means++\", \"random\"],\n",
    "    \"n_init\": [10],\n",
    "    \"max_iter\":[300],\n",
    "    \"precompute_distances\":[False,True],\n",
    "    \"random_state\":[SEED],\n",
    "    \"algorithm\" : [\"auto\", \"full\", \"elkan\"]\n",
    "\n",
    "}\n",
    "\n",
    "gs = GridSearchCV(KMeans(), param,  refit=True, cv=[(slice(None), slice(None))], verbose=1)\n",
    "gs.fit(vectors)\n",
    "model = gs.best_estimator_\n",
    "df = df_normalized.copy()\n",
    "y = model.predict(vectors)\n",
    "\n",
    "df_base['Cluster Class'] = pd.Series(y, index=df_21.index)\n"
   ]
  },
  {
   "cell_type": "code",
   "execution_count": null,
   "metadata": {},
   "outputs": [],
   "source": [
    "plt.figure(figsize=(20,10))\n",
    "plt.subplot(221)\n",
    "plt.scatter(vectors[:, 0], vectors[:, 1], c=y)\n",
    "plt.title(\"Incorrect Number of Blobs\")"
   ]
  },
  {
   "cell_type": "code",
   "execution_count": 1035,
   "metadata": {},
   "outputs": [
    {
     "name": "stdout",
     "output_type": "stream",
     "text": [
      "1070280\n",
      "1057173\n",
      "1140370\n",
      "1125881\n"
     ]
    }
   ],
   "source": [
    "bycode = get_bycode()\n",
    "index = get_index(NATURAL)\n",
    "\n",
    "df = inner_join(df_base,bycode,\"code\")\n",
    "print(df[\"Likud\"].sum())\n",
    "print(df[\"Blue and white\"].sum())\n",
    "df = inner_join(df,index,\"Natural area code\")\n",
    "df = df[[\"Cluster Class\",\"Name of Natural Area\"]]\n",
    "print(df_21[\"Likud\"].sum())\n",
    "print(df_21[\"Blue and white\"].sum())"
   ]
  },
  {
   "cell_type": "code",
   "execution_count": null,
   "metadata": {},
   "outputs": [],
   "source": [
    "barchar_group(df,\"Cluster Class\",\"Name of Natural Area\",200)"
   ]
  },
  {
   "cell_type": "code",
   "execution_count": 1050,
   "metadata": {},
   "outputs": [
    {
     "data": {
      "image/png": "[encoded data removed]",
      "text/plain": [
       "<Figure size 432x288 with 1 Axes>"
      ]
     },
     "metadata": {
      "needs_background": "light"
     },
     "output_type": "display_data"
    }
   ],
   "source": [
    "bycode = get_bycode()\n",
    "index = get_index(NATURAL)\n",
    "\n",
    "df = inner_join(df_base,bycode,\"code\")\n",
    "df = inner_join(df,index,\"Natural area code\")\n",
    "df = df[[\"Cluster Class\",\"Likud\",\"Blue and white\",\"Haredi\",\"Right\",\"Arab\",\"Left\"]]\n",
    "df = df.groupby(\"Cluster Class\").sum()\n",
    "df = df.T\n",
    "\n",
    "# data to plot\n",
    "n_groups = 6\n",
    "\n",
    "# create plot\n",
    "fig, ax = plt.subplots()\n",
    "index = np.arange(n_groups)\n",
    "bar_width = 0.35\n",
    "opacity = 0.8\n",
    "\n",
    "colors = [\"red\",\"green\",\"blue\",\"yellow\",\"brown\",\"orange\"]\n",
    "recs =[] \n",
    "num = 0\n",
    "for lb,row in df.iterrows():\n",
    "    recs.append(plt.bar(index+bar_width, row,bar_width,label=lb,color = colors[num]))\n",
    "    num += 1\n",
    "\n",
    "plt.xlabel('Person')\n",
    "plt.ylabel('Scores')\n",
    "plt.title('Scores by person')\n",
    "plt.xticks(index + bar_width, ('0', '1', '2', '3','4', '5'))\n",
    "plt.legend()\n",
    "\n",
    "plt.tight_layout()\n",
    "plt.show()"
   ]
  },
  {
   "cell_type": "code",
   "execution_count": null,
   "metadata": {},
   "outputs": [],
   "source": [
    "from sklearn.cluster import MeanShift, estimate_bandwidth\n",
    "\n",
    "# Compute clustering with MeanShift\n",
    "\n",
    "# The following bandwidth can be automatically detected using\n",
    "bandwidth = estimate_bandwidth(vectors, quantile=0.2, n_samples=500)\n",
    "\n",
    "ms = MeanShift(bandwidth=bandwidth, bin_seeding=True)\n",
    "ms.fit(vectors)\n",
    "y = ms.labels_\n",
    "cluster_centers = ms.cluster_centers_\n",
    "df = df_21.copy()\n",
    "df['Cluster Class'] = pd.Series(y, index=df_21.index)\n"
   ]
  },
  {
   "cell_type": "code",
   "execution_count": null,
   "metadata": {},
   "outputs": [],
   "source": [
    "bycode = get_bycode()\n",
    "index = get_index(NATURAL)\n",
    "\n",
    "df = inner_join(df_base,bycode,\"code\")\n",
    "df = inner_join(df,index,\"Natural area code\")\n",
    "df = df[[\"Cluster Class\",\"Name of Natural Area\"]]"
   ]
  },
  {
   "cell_type": "code",
   "execution_count": null,
   "metadata": {},
   "outputs": [],
   "source": [
    "barchar_group(df,\"Cluster Class\",\"Name of Natural Area\",200)"
   ]
  },
  {
   "cell_type": "code",
   "execution_count": null,
   "metadata": {},
   "outputs": [],
   "source": [
    "from sklearn.ensemble import  RandomForestRegressor\n",
    "from sklearn.model_selection import RandomizedSearchCV\n",
    "from sklearn import  metrics\n",
    "param_grid = {\n",
    "    'n_estimators': [100, 150, 200, 250],  # The number of trees in the forest.\n",
    "    'max_depth': [None, 50, 60, 70],  # The maximum depth of the tree.\n",
    "    'max_features': ['sqrt', None],  # he number of features to consider when looking for the best split\n",
    "    'min_samples_split': [2, 5, 10],  # The minimum number of samples required to split an internal node\n",
    "    'bootstrap': [True, False]  # Whether bootstrap samples are used when building trees.\n",
    "}\n",
    "\n",
    "df21 = get_data(SETTELMENT,21)\n",
    "df21 = remove_small_parties(df21,135720)\n",
    "df21 = unite_parties(df21)\n",
    "df21=df21[[\"committee code\",\"Voters\",\"Disqualified\",\"Holders of voting rights\",\"Likud\",\n",
    "           \"Blue and white\",\"Haredi\",\"Right\",\"Arab\",\"Left\",\"valid votes\"]]\n",
    "df22 = get_data(SETTELMENT,22)\n",
    "df22 = remove_small_parties(df22,135720)\n",
    "df22 = unite_parties(df22)\n",
    "df22=df22[[\"committee code\",\"Voters\",\"Disqualified\",\"Holders of voting rights\",\"Likud\",\n",
    "           \"Blue and white\",\"Haredi\",\"Right\",\"Arab\",\"Left\",\"valid votes\"]]\n",
    "\n",
    "\n",
    "df23 = get_data(SETTELMENT,23)\n",
    "df23 = remove_small_parties(df23,135720)\n",
    "df23 = unite_parties(df23)\n",
    "a=[\"HAIFA\",\"ELAT\",\"AYYELET HASHAHAR\",\"SAKHNIN\",\"QAZRIN\"]\n",
    "df23 = df23[df23.name.isin(a)]\n",
    "locations=df23[['name']].values.tolist()\n",
    "df23=df23[[\"committee code\",\"Voters\",\"Disqualified\",\"Holders of voting rights\",\"Likud\",\n",
    "           \"Blue and white\",\"Haredi\",\"Right\",\"Arab\",\"Left\",\"valid votes\"]]\n",
    "\n",
    "df=pd.concat([df21, df22])\n",
    "x_train=df.iloc[:,:-1]\n",
    "y_train=df.iloc[:,-1]\n",
    "x_test=df23.iloc[:,:-1]\n",
    "y_test=df23.iloc[:,-1]\n",
    "\n",
    "estimator = RandomForestRegressor(random_state=SEED)\n",
    "\n",
    "rs = RandomizedSearchCV(estimator, param_grid, n_jobs=-1,\n",
    "                        scoring='neg_mean_squared_error', cv=5,\n",
    "                        n_iter=1, verbose=1, random_state=SEED)\n",
    "\n",
    "rs.fit(x_train,y_train)\n",
    "predict_y = rs.predict(x_test)\n",
    "actual=df23.iloc[:,-1].values\n",
    "i=0\n",
    "while i< len(predict_y):\n",
    "        print(\"predection for \"+str(locations[i])+ \" is \"+str(predict_y[i])+\" while the true value is \"+\n",
    "                                    str(actual[i]))\n",
    "        i=i+1\n",
    "        \n"
   ]
  }
 ],
 "metadata": {
  "kernelspec": {
   "display_name": "Python 3",
   "language": "python",
   "name": "python3"
  },
  "language_info": {
   "codemirror_mode": {
    "name": "ipython",
    "version": 3
   },
   "file_extension": ".py",
   "mimetype": "text/x-python",
   "name": "python",
   "nbconvert_exporter": "python",
   "pygments_lexer": "ipython3",
   "version": "3.7.6"
  }
 },
 "nbformat": 4,
 "nbformat_minor": 4
}

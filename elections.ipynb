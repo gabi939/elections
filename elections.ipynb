{
 "cells": [
  {
   "cell_type": "code",
   "execution_count": 15,
   "metadata": {},
   "outputs": [
    {
     "name": "stdout",
     "output_type": "stream",
     "text": [
      "Requirement already satisfied: googletrans in c:\\users\\gabi9\\anaconda3\\lib\\site-packages (2.4.0)\n",
      "Requirement already satisfied: requests in c:\\users\\gabi9\\anaconda3\\lib\\site-packages (from googletrans) (2.22.0)\n",
      "Requirement already satisfied: chardet<3.1.0,>=3.0.2 in c:\\users\\gabi9\\anaconda3\\lib\\site-packages (from requests->googletrans) (3.0.4)\n",
      "Requirement already satisfied: idna<2.9,>=2.5 in c:\\users\\gabi9\\anaconda3\\lib\\site-packages (from requests->googletrans) (2.8)\n",
      "Requirement already satisfied: certifi>=2017.4.17 in c:\\users\\gabi9\\anaconda3\\lib\\site-packages (from requests->googletrans) (2019.11.28)\n",
      "Requirement already satisfied: urllib3!=1.25.0,!=1.25.1,<1.26,>=1.21.1 in c:\\users\\gabi9\\anaconda3\\lib\\site-packages (from requests->googletrans) (1.25.8)\n"
     ]
    }
   ],
   "source": [
    "!pip install googletrans"
   ]
  },
  {
   "cell_type": "code",
   "execution_count": 28,
   "metadata": {},
   "outputs": [],
   "source": [
    "import os\n",
    "import sys\n",
    "import pandas as pd\n",
    "import googletrans\n",
    "from googletrans import Translator\n",
    "%matplotlib inline\n",
    "import matplotlib.pyplot as plt"
   ]
  },
  {
   "cell_type": "code",
   "execution_count": 24,
   "metadata": {},
   "outputs": [],
   "source": [
    "DIR_PATH = r\"C:\\Users\\gabi9\\Desktop\\Dev\\python_dev\\elections\"\n",
    "CALPI = \"calpi\"\n",
    "SETTELMENT = \"settelments\"\n",
    "translator = Translator()\n",
    "\n",
    "\n",
    "\n",
    "def get_data(agg_type, num):\n",
    "    \"\"\"returns dataframe of the requested csv\n",
    "    \n",
    "    parameters\n",
    "    ----------\n",
    "    agg_type - aggregation type of the csv needed\n",
    "    num - election number\n",
    "    \n",
    "    return\n",
    "    ------\n",
    "    DataFrame\n",
    "    \"\"\"\n",
    "    if type(num) is not str:\n",
    "        num = str(num)\n",
    "    \n",
    "    ROOT_PATH = os.path.abspath(os.getcwd())\n",
    "    path = os.path.join(ROOT_PATH,num+agg_type+\".xlsx\")\n",
    "    df = pd.read_excel(path)\n",
    "    df_en = df.copy()\n",
    "    \n",
    "    df_en.rename(columns=lambda x: translator.translate(x,dest='en',src='he').text, inplace=True)\n",
    "    return df_en\n",
    "    "
   ]
  },
  {
   "cell_type": "code",
   "execution_count": 29,
   "metadata": {},
   "outputs": [],
   "source": [
    "CALPI = \"calpi\"\n",
    "SETTELMENT = \"settelments\""
   ]
  },
  {
   "cell_type": "code",
   "execution_count": 129,
   "metadata": {},
   "outputs": [
    {
     "name": "stdout",
     "output_type": "stream",
     "text": [
      "       code                  name  Holders of voting rights  Voters  \\\n",
      "0         7                SHAHAR                       516     371   \n",
      "1        10                TIROSH                       333     237   \n",
      "2        11               NIR HEN                       403     289   \n",
      "3        13                HAZEVA                       502     403   \n",
      "4        15                 NO'AM                       302     217   \n",
      "...     ...                   ...                       ...     ...   \n",
      "1209   9500         QIRYAT BIALIK                     34220   22168   \n",
      "1210   9600            QIRYAT YAM                     36506   21114   \n",
      "1211   9700          HOD HASHARON                     45512   34904   \n",
      "1212   9800  BINYAMINA-GIV'AT ADA                     10073    7652   \n",
      "1213  99999        EXTERNAL_VOTES                         0  240783   \n",
      "\n",
      "      Disqualified  valid votes  Avoda  United Torah Judaism  UAL-Balad  \\\n",
      "0                0          371      4                     0          0   \n",
      "1                2          235      1                     1          0   \n",
      "2                1          288      7                     0          0   \n",
      "3                0          403     10                     0          0   \n",
      "4                2          215      0                     1          0   \n",
      "...            ...          ...    ...                   ...        ...   \n",
      "1209           157        22011      4                     0          0   \n",
      "1210           227        20887      2                     0          0   \n",
      "1211           104        34800      7                     0          0   \n",
      "1212            27         7625      9                     0          0   \n",
      "1213          1961       238822      4                     3          1   \n",
      "\n",
      "      Hadash  Zehut  Consolidation of right-wing parties  Kolano  \\\n",
      "0          0      2                                    0       5   \n",
      "1          0      0                                    4       3   \n",
      "2          0      3                                    1       4   \n",
      "3          0      3                                    1       1   \n",
      "4          0      0                                    2       0   \n",
      "...      ...    ...                                  ...     ...   \n",
      "1209       0      2                                    0       5   \n",
      "1210       0      3                                    1       5   \n",
      "1211       0      1                                    0       2   \n",
      "1212       0      1                                    1       2   \n",
      "1213       1      6                                    4       3   \n",
      "\n",
      "      Israel is our Home  Likud  Meretz  New Right  Gesher  Blue and white  \\\n",
      "0                      1     38       2          6       2              26   \n",
      "1                      0     52       0          1       0               2   \n",
      "2                      0     29       3          5       4              38   \n",
      "3                      0      6       4          5       1              62   \n",
      "4                      0     76       0          0       0               2   \n",
      "...                  ...    ...     ...        ...     ...             ...   \n",
      "1209                   6     34       1          2       2              34   \n",
      "1210                  16     42       0          1       1              20   \n",
      "1211                   1     20       4          2       2              53   \n",
      "1212                   0     18       6          3       2              50   \n",
      "1213                   1     29       3          4       1              28   \n",
      "\n",
      "      Shas  \n",
      "0        8  \n",
      "1       31  \n",
      "2        0  \n",
      "3        0  \n",
      "4       11  \n",
      "...    ...  \n",
      "1209     2  \n",
      "1210     2  \n",
      "1211     1  \n",
      "1212     1  \n",
      "1213     4  \n",
      "\n",
      "[1214 rows x 20 columns]\n"
     ]
    }
   ],
   "source": [
    "def getdata(agg_type , num):\n",
    "    \n",
    "    if type(num) is not str:\n",
    "        num = str(num)\n",
    "    ROOT_PATH = os.path.abspath(os.getcwd())\n",
    "    path = os.path.join(ROOT_PATH,num+agg_type+\".xlsx\")\n",
    "    df = pd.read_excel(path)\n",
    "    return df\n",
    "\n",
    "def getRideofColm(df):\n",
    "    dict = {}\n",
    "    for column in df.columns[6:]:\n",
    "       dict[column]=df[column].sum()\n",
    "    for c in dict:\n",
    "        if dict[c] < 10000:\n",
    "           df = df.drop(c, 1)\n",
    "    for i,r in df.iterrows():\n",
    "        for c in df.columns[6:]:\n",
    "            x = r[c]/r['valid votes']*100\n",
    "            df.at[i , c]=x\n",
    "\n",
    "    return df\n",
    "        \n",
    "\n",
    "\n",
    "    \n",
    "df21=getdata(SETTELMENT,21)\n",
    "df21=getRideofColm(df21)\n",
    "print(df21)\n",
    "\n",
    "#plt.figure(1)\n",
    "#plt.plot(df21['City name'], df21['Number of polling'], color='b')\n",
    "#plt.xlabel('City name')\n",
    "#plt.ylabel('Number of polling')\n",
    "#plt.title('')"
   ]
  },
  {
   "cell_type": "code",
   "execution_count": null,
   "metadata": {},
   "outputs": [],
   "source": []
  }
 ],
 "metadata": {
  "kernelspec": {
   "display_name": "Python 3",
   "language": "python",
   "name": "python3"
  },
  "language_info": {
   "codemirror_mode": {
    "name": "ipython",
    "version": 3
   },
   "file_extension": ".py",
   "mimetype": "text/x-python",
   "name": "python",
   "nbconvert_exporter": "python",
   "pygments_lexer": "ipython3",
   "version": "3.7.6"
  }
 },
 "nbformat": 4,
 "nbformat_minor": 4
}

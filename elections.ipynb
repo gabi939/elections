{
 "cells": [
  {
   "cell_type": "code",
   "execution_count": 135,
   "metadata": {},
   "outputs": [],
   "source": [
    "import os\n",
    "import sys\n",
    "import pandas as pd\n",
    "import googletrans\n",
    "from googletrans import Translator\n",
    "import matplotlib.pyplot as plt\n",
    "from sklearn.cluster import KMeans \n",
    "import numpy as np\n",
    "from sklearn.model_selection import GridSearchCV\n"
   ]
  },
  {
   "cell_type": "code",
   "execution_count": 136,
   "metadata": {},
   "outputs": [],
   "source": [
    "# Constants\n",
    "ROOT_PATH = os.path.abspath(os.getcwd())\n",
    "SEED = 170\n",
    "\n",
    "# bycode 2018 excel\n",
    "BYCODE = \"bycode2018\"\n",
    "\n",
    "# index 2018 excel\n",
    "INDEX = \"index 2018\"\n",
    "NATURAL = \"Natural Area\"\n",
    "DISTRICT = \"District\"\n",
    "RELIGION = \"Religion\"\n",
    "SETTLEMENT_TYPE = \"Settlement Type\"\n",
    "\n",
    "\n",
    "# elections data\n",
    "CALPI = \"calpi\"\n",
    "SETTELMENT = \"settelments\"\n"
   ]
  },
  {
   "cell_type": "code",
   "execution_count": 137,
   "metadata": {},
   "outputs": [],
   "source": [
    "def inner_join(df_1,df_2,column_name):\n",
    "    \"\"\"makes inner-join between dataframes on the specified column\"\"\"\n",
    "    return pd.merge(left=df_1, right=df_2, left_on= column_name, right_on=column_name)\n",
    "\n",
    "def get_index(sheet):\n",
    "    \"returns dataframe of sheet from index 2018 excel\"\n",
    "    path = os.path.join(ROOT_PATH,INDEX+\".xlsx\")\n",
    "    return pd.read_excel(path, sheet_name=sheet)\n",
    "\n",
    "def get_bycode():\n",
    "    \"\"\"returns dataframe for bycode excel\"\"\"\n",
    "    path = os.path.join(ROOT_PATH,BYCODE+\".xlsx\")\n",
    "    return pd.read_excel(path)\n",
    "\n",
    "def get_data(agg_type, num):\n",
    "    \"\"\"returns dataframe of the requested .xlsx\"\"\" \n",
    "    if type(num) is not str:\n",
    "        num = str(num)\n",
    "        \n",
    "    path = os.path.join(ROOT_PATH,num+agg_type+\".xlsx\")\n",
    "    return pd.read_excel(path,dtype=object)"
   ]
  },
  {
   "cell_type": "code",
   "execution_count": 138,
   "metadata": {},
   "outputs": [],
   "source": [
    "def remove_small_parties(df,threshold):\n",
    "    \"\"\"remove parties that didnt pass the threshold\"\"\"\n",
    "    \n",
    "    for column in df.columns[7:]:\n",
    "            if df[column].sum() < threshold:\n",
    "                   df = df.drop(column,axis=1)\n",
    "    return df"
   ]
  },
  {
   "cell_type": "code",
   "execution_count": 139,
   "metadata": {},
   "outputs": [],
   "source": [
    "def total_voters(df):\n",
    "    \"ploting a barchar from dataframe\"\n",
    "    dict={}\n",
    "    for c in df.columns[7:]:\n",
    "        dict[c]=(df[c].sum()/df['valid votes'].sum())*100\n",
    "    plt.figure(figsize=(20,10))\n",
    "    plt.bar(range(len(dict)), list(dict.values()), align='center')\n",
    "    plt.ylabel('Voter turnout')\n",
    "    plt.xlabel('Parties')\n",
    "    plt.xticks(range(len(dict)), list(dict.keys()))\n",
    "    plt.show()"
   ]
  },
  {
   "cell_type": "code",
   "execution_count": 140,
   "metadata": {},
   "outputs": [],
   "source": [
    "def unite_parties (df):\n",
    "    \"\"\" unites small parties to factions\n",
    "    \n",
    "    We think those factions represent the israeli society\n",
    "    \"\"\"\n",
    "    \n",
    "    d={'United Torah Judaism':'Haredi','Shas':'Haredi', 'Avoda':'Left','Meretz':'Left',\n",
    "       'Consolidation of right-wing parties':'Right','Kolano':'Right','Israel is our Home':'Right','New Right':'Right',\n",
    "        'UAL-Balad':'Arab','Hadash':'Arab' ,'Gesher Avoda':'Left','Joint list':'Arab','right':'Right'\n",
    "        ,'Avoda-Meretz-Gesher':'Left'}\n",
    "    \n",
    "    faction=['Haredi','Right','Arab','Left']\n",
    "    for f in faction:\n",
    "        df.insert(len(df.columns),f ,0)\n",
    "    for c in  df.columns[7:]:\n",
    "        if c in d:\n",
    "            s=df[d[c]]+df[c]\n",
    "            df[d[c]]=s\n",
    "   \n",
    "    for c in d.keys():\n",
    "        if c in df.columns:\n",
    "              df=df.drop(c,axis=1)\n",
    "    return df"
   ]
  },
  {
   "cell_type": "code",
   "execution_count": 141,
   "metadata": {},
   "outputs": [],
   "source": [
    "def normalize_to_voting_ratios(df):\n",
    "    \"\"\"normalizing the votes according to proportion of votes per party\"\"\"\n",
    "    \n",
    "    for i,r in df.iterrows():\n",
    "        for c in df.columns[7:]:\n",
    "            x = r[c]/r['valid votes']\n",
    "            df.at[i , c]=x\n",
    "    \n",
    "    colms_to_remove = [\"name\",\"Holders of voting rights\",\"Voters\",\"Disqualified\",\"valid votes\",\"committee code\"]\n",
    "    df = df.drop(labels = colms_to_remove,axis=1) \n",
    "    return df"
   ]
  },
  {
   "cell_type": "code",
   "execution_count": 142,
   "metadata": {},
   "outputs": [],
   "source": [
    "def unit_vector(vector):\n",
    "    \"\"\" Returns the unit vector of the vector.  \"\"\"\n",
    "    return vector / np.linalg.norm(vector)\n",
    "\n",
    "def angle_between(v1, v2):\n",
    "    \"\"\" \n",
    "    Returns the angle in radians between vectors 'v1' and 'v2'\n",
    "    \"\"\"\n",
    "    v1_u = unit_vector(v1)\n",
    "    v2_u = unit_vector(v2)\n",
    "    return np.arccos(np.clip(np.dot(v1_u, v2_u), -1.0, 1.0))\n",
    "\n",
    "def prepare_vectors(df):\n",
    "    \"\"\"calculates the distance and the angle if each vector from the base_vector\"\"\"\n",
    "    \n",
    "    matrix = [] \n",
    "    vector_base = np.zeros(df.shape[1])\n",
    "    vector_base.fill(1)\n",
    "    print(df.shape)\n",
    "\n",
    "    for row in df:\n",
    "        dist = np.linalg.norm(row)\n",
    "        angle = angle_between(vector_base,row)\n",
    "        matrix.append([dist,angle])\n",
    "        \n",
    "    return np.array(matrix)\n",
    "    "
   ]
  },
  {
   "cell_type": "code",
   "execution_count": 165,
   "metadata": {},
   "outputs": [],
   "source": [
    "def add_most_voted_colm(df):\n",
    "    \"\"\" adds a column of labels for the most voted faction \"\"\"\n",
    "    temp = df.copy()\n",
    "    temp.drop(labels = [\"code\"],axis=1,inplace = True)\n",
    "    \n",
    "    for c in temp.columns:\n",
    "        temp[c] = pd.to_numeric(temp[c])\n",
    "    \n",
    "    colm = temp.idxmax(axis=1)\n",
    "    df[\"chosen\"] = colm\n",
    "    return df\n",
    "        "
   ]
  },
  {
   "cell_type": "code",
   "execution_count": 169,
   "metadata": {},
   "outputs": [],
   "source": [
    "df_21 = get_data(SETTELMENT,21)\n",
    "df_21 = remove_small_parties(df_21,135720)\n",
    "df_21 = unite_parties(df_21)\n",
    "df_21 = normalize_to_voting_ratios(df_21)\n",
    "df_21 = add_most_voted_colm(df_21)\n",
    "vectors = df_21[df_21.columns.difference(['code','chosen'])]"
   ]
  },
  {
   "cell_type": "code",
   "execution_count": 170,
   "metadata": {
    "scrolled": false
   },
   "outputs": [
    {
     "name": "stdout",
     "output_type": "stream",
     "text": [
      "Fitting 1 folds for each of 36 candidates, totalling 36 fits\n"
     ]
    },
    {
     "name": "stderr",
     "output_type": "stream",
     "text": [
      "[Parallel(n_jobs=1)]: Using backend SequentialBackend with 1 concurrent workers.\n",
      "[Parallel(n_jobs=1)]: Done  36 out of  36 | elapsed:    1.4s finished\n"
     ]
    }
   ],
   "source": [
    "param = {\n",
    "    \"n_clusters\":[3,4,5],\n",
    "    \"init\":[\"k-means++\", \"random\"],\n",
    "    \"n_init\": [10],\n",
    "    \"max_iter\":[300],\n",
    "    \"precompute_distances\":[False,True],\n",
    "    \"random_state\":[SEED],\n",
    "    \"algorithm\" : [\"auto\", \"full\", \"elkan\"]\n",
    "\n",
    "}\n",
    "\n",
    "gs = GridSearchCV(KMeans(), param,  refit=True, cv=[(slice(None), slice(None))], verbose=1)\n",
    "gs.fit(vectors)\n",
    "model = gs.best_estimator_"
   ]
  },
  {
   "cell_type": "code",
   "execution_count": 190,
   "metadata": {},
   "outputs": [],
   "source": [
    "labels = model.labels_\n",
    "df_21['Cluster Class'] = pd.Series(labels, index=df_21.index)\n",
    "agg = df_21.groupby(['Cluster Class'])[\"chosen\"].value_counts()    "
   ]
  },
  {
   "cell_type": "code",
   "execution_count": 196,
   "metadata": {},
   "outputs": [
    {
     "data": {
      "text/plain": [
       "pandas.core.series.Series"
      ]
     },
     "execution_count": 196,
     "metadata": {},
     "output_type": "execute_result"
    }
   ],
   "source": [
    "type(agg)"
   ]
  },
  {
   "cell_type": "code",
   "execution_count": 114,
   "metadata": {},
   "outputs": [
    {
     "data": {
      "text/plain": [
       "array(['Seats', 'Seats', 'Seats', ...,\n",
       "       'Jewish settlements 199999-100000 residents',\n",
       "       'Jewish settlements 500,000 or more inhabitants',\n",
       "       'Residents moshavim 4999-2000'], dtype=object)"
      ]
     },
     "execution_count": 114,
     "metadata": {},
     "output_type": "execute_result"
    }
   ],
   "source": [
    "# Pie chart, where the slices will be ordered and plotted counter-clockwise:\n",
    "labels = 'Frogs', 'Hogs', 'Dogs', 'Logs'\n",
    "sizes = [15, 30, 45, 10]\n",
    "explode = (0, 0.1, 0, 0)  # only \"explode\" the 2nd slice (i.e. 'Hogs')\n",
    "\n",
    "fig1, ax1 = plt.subplots()\n",
    "ax1.pie(sizes, explode=explode, labels=labels, autopct='%1.1f%%',\n",
    "        shadow=True, startangle=90)\n",
    "ax1.axis('equal')  # Equal aspect ratio ensures that pie is drawn as a circle.\n",
    "\n",
    "plt.show()"
   ]
  },
  {
   "cell_type": "code",
   "execution_count": null,
   "metadata": {},
   "outputs": [],
   "source": []
  },
  {
   "cell_type": "code",
   "execution_count": null,
   "metadata": {},
   "outputs": [],
   "source": [
    "\n",
    "plt.figure(figsize=(20,10))\n",
    "plt.scatter(vectors[:,0],vectors[:,1],c=y)\n",
    "plt.title(\"Incorrect Number of Blobs\")"
   ]
  },
  {
   "cell_type": "code",
   "execution_count": null,
   "metadata": {},
   "outputs": [],
   "source": [
    "df_bycode = get_bycode()\n",
    "types = get_index(SETTLEMENT_TYPE)\n",
    "bycode_ele = inner_join(df_21,df_bycode,\"code\")\n",
    "super_df =  inner_join(bycode_ele,types,\"Settlement type code\")\n",
    "settelments = super_df[\"Settlement type\"].values"
   ]
  }
 ],
 "metadata": {
  "kernelspec": {
   "display_name": "Python 3",
   "language": "python",
   "name": "python3"
  },
  "language_info": {
   "codemirror_mode": {
    "name": "ipython",
    "version": 3
   },
   "file_extension": ".py",
   "mimetype": "text/x-python",
   "name": "python",
   "nbconvert_exporter": "python",
   "pygments_lexer": "ipython3",
   "version": "3.7.6"
  }
 },
 "nbformat": 4,
 "nbformat_minor": 4
}

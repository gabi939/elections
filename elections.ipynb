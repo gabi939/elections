{
 "cells": [
  {
   "cell_type": "code",
   "execution_count": 15,
   "metadata": {},
   "outputs": [
    {
     "name": "stdout",
     "output_type": "stream",
     "text": [
      "Requirement already satisfied: googletrans in c:\\users\\gabi9\\anaconda3\\lib\\site-packages (2.4.0)\n",
      "Requirement already satisfied: requests in c:\\users\\gabi9\\anaconda3\\lib\\site-packages (from googletrans) (2.22.0)\n",
      "Requirement already satisfied: chardet<3.1.0,>=3.0.2 in c:\\users\\gabi9\\anaconda3\\lib\\site-packages (from requests->googletrans) (3.0.4)\n",
      "Requirement already satisfied: idna<2.9,>=2.5 in c:\\users\\gabi9\\anaconda3\\lib\\site-packages (from requests->googletrans) (2.8)\n",
      "Requirement already satisfied: certifi>=2017.4.17 in c:\\users\\gabi9\\anaconda3\\lib\\site-packages (from requests->googletrans) (2019.11.28)\n",
      "Requirement already satisfied: urllib3!=1.25.0,!=1.25.1,<1.26,>=1.21.1 in c:\\users\\gabi9\\anaconda3\\lib\\site-packages (from requests->googletrans) (1.25.8)\n"
     ]
    }
   ],
   "source": [
    "!pip install googletrans"
   ]
  },
  {
   "cell_type": "code",
   "execution_count": 3,
   "metadata": {},
   "outputs": [],
   "source": [
    "import os\n",
    "import sys\n",
    "import pandas as pd\n",
    "import googletrans\n",
    "from googletrans import Translator\n",
    "%matplotlib inline\n",
    "import matplotlib.pyplot as plt"
   ]
  },
  {
   "cell_type": "code",
   "execution_count": 24,
   "metadata": {},
   "outputs": [],
   "source": [
    "DIR_PATH = r\"C:\\Users\\gabi9\\Desktop\\Dev\\python_dev\\elections\"\n",
    "CALPI = \"calpi\"\n",
    "SETTELMENT = \"settelments\"\n",
    "translator = Translator()\n",
    "\n",
    "\n",
    "\n",
    "def get_data(agg_type, num):\n",
    "    \"\"\"returns dataframe of the requested csv\n",
    "    \n",
    "    parameters\n",
    "    ----------\n",
    "    agg_type - aggregation type of the csv needed\n",
    "    num - election number\n",
    "    \n",
    "    return\n",
    "    ------\n",
    "    DataFrame\n",
    "    \"\"\"\n",
    "    if type(num) is not str:\n",
    "        num = str(num)\n",
    "    \n",
    "    ROOT_PATH = os.path.abspath(os.getcwd())\n",
    "    path = os.path.join(ROOT_PATH,num+agg_type+\".xlsx\")\n",
    "    df = pd.read_excel(path)\n",
    "    df_en = df.copy()\n",
    "    \n",
    "    df_en.rename(columns=lambda x: translator.translate(x,dest='en',src='he').text, inplace=True)\n",
    "    return df_en\n",
    "    "
   ]
  },
  {
   "cell_type": "code",
   "execution_count": 4,
   "metadata": {},
   "outputs": [],
   "source": [
    "CALPI = \"calpi\"\n",
    "SETTELMENT = \"settelments\""
   ]
  },
  {
   "cell_type": "code",
   "execution_count": 6,
   "metadata": {},
   "outputs": [
    {
     "name": "stdout",
     "output_type": "stream",
     "text": [
      "Index(['code', 'name', 'Holders of voting rights', 'Voters', 'Disqualified',\n",
      "       'valid votes', 'Avoda', 'United Torah Judaism', 'UAL-Balad', 'Hadash',\n",
      "       'Zehut', 'Consolidation of right-wing parties', 'Kolano',\n",
      "       'Israel is our Home', 'Likud', 'Meretz', 'New Right', 'Gesher',\n",
      "       'Blue and white', 'Shas'],\n",
      "      dtype='object')\n"
     ]
    }
   ],
   "source": [
    "def getdata(agg_type , num):\n",
    "    \n",
    "    if type(num) is not str:\n",
    "        num = str(num)\n",
    "    ROOT_PATH = os.path.abspath(os.getcwd())\n",
    "    path = os.path.join(ROOT_PATH,num+agg_type+\".xlsx\")\n",
    "    df = pd.read_excel(path)\n",
    "    return df\n",
    "\n",
    "def getRideofColm(df):\n",
    "    dict = {}\n",
    "    for column in df.columns[6:]:\n",
    "       dict[column]=df[column].sum()\n",
    "    for c in dict:\n",
    "        if dict[c] < 10000:\n",
    "           df = df.drop(c, 1)\n",
    "    for i,r in df.iterrows():\n",
    "        for c in df.columns[6:]:\n",
    "            x = r[c]/r['valid votes']*100\n",
    "            df.at[i , c]=x\n",
    "\n",
    "    return df\n",
    "        \n",
    "\n",
    "\n",
    "    \n",
    "df21=getdata(SETTELMENT,21)\n",
    "df21=getRideofColm(df21)\n",
    "print(df21.columns)\n",
    "\n",
    "#plt.figure(1)\n",
    "#plt.plot(df21['City name'], df21['Number of polling'], color='b')\n",
    "#plt.xlabel('City name')\n",
    "#plt.ylabel('Number of polling')\n",
    "#plt.title('')"
   ]
  },
  {
   "cell_type": "code",
   "execution_count": null,
   "metadata": {},
   "outputs": [],
   "source": []
  }
 ],
 "metadata": {
  "kernelspec": {
   "display_name": "Python 3",
   "language": "python",
   "name": "python3"
  },
  "language_info": {
   "codemirror_mode": {
    "name": "ipython",
    "version": 3
   },
   "file_extension": ".py",
   "mimetype": "text/x-python",
   "name": "python",
   "nbconvert_exporter": "python",
   "pygments_lexer": "ipython3",
   "version": "3.7.4"
  }
 },
 "nbformat": 4,
 "nbformat_minor": 4
}

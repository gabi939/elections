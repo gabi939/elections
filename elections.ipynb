{
 "cells": [
  {
   "cell_type": "code",
   "execution_count": 135,
   "metadata": {},
   "outputs": [],
   "source": [
    "import os\n",
    "import sys\n",
    "import pandas as pd\n",
    "import googletrans\n",
    "from googletrans import Translator\n",
    "import matplotlib.pyplot as plt\n",
    "from sklearn.cluster import KMeans \n",
    "import numpy as np\n",
    "from sklearn.model_selection import GridSearchCV\n"
   ]
  },
  {
   "cell_type": "code",
   "execution_count": 136,
   "metadata": {},
   "outputs": [],
   "source": [
    "# Constants\n",
    "ROOT_PATH = os.path.abspath(os.getcwd())\n",
    "SEED = 170\n",
    "\n",
    "# bycode 2018 excel\n",
    "BYCODE = \"bycode2018\"\n",
    "\n",
    "# index 2018 excel\n",
    "INDEX = \"index 2018\"\n",
    "NATURAL = \"Natural Area\"\n",
    "DISTRICT = \"District\"\n",
    "RELIGION = \"Religion\"\n",
    "SETTLEMENT_TYPE = \"Settlement Type\"\n",
    "\n",
    "\n",
    "# elections data\n",
    "CALPI = \"calpi\"\n",
    "SETTELMENT = \"settelments\"\n"
   ]
  },
  {
   "cell_type": "code",
   "execution_count": 137,
   "metadata": {},
   "outputs": [],
   "source": [
    "def inner_join(df_1,df_2,column_name):\n",
    "    \"\"\"makes inner-join between dataframes on the specified column\"\"\"\n",
    "    return pd.merge(left=df_1, right=df_2, left_on= column_name, right_on=column_name)\n",
    "\n",
    "def get_index(sheet):\n",
    "    \"returns dataframe of sheet from index 2018 excel\"\n",
    "    path = os.path.join(ROOT_PATH,INDEX+\".xlsx\")\n",
    "    return pd.read_excel(path, sheet_name=sheet)\n",
    "\n",
    "def get_bycode():\n",
    "    \"\"\"returns dataframe for bycode excel\"\"\"\n",
    "    path = os.path.join(ROOT_PATH,BYCODE+\".xlsx\")\n",
    "    return pd.read_excel(path)\n",
    "\n",
    "def get_data(agg_type, num):\n",
    "    \"\"\"returns dataframe of the requested .xlsx\"\"\" \n",
    "    if type(num) is not str:\n",
    "        num = str(num)\n",
    "        \n",
    "    path = os.path.join(ROOT_PATH,num+agg_type+\".xlsx\")\n",
    "    return pd.read_excel(path,dtype=object)"
   ]
  },
  {
   "cell_type": "code",
   "execution_count": 138,
   "metadata": {},
   "outputs": [],
   "source": [
    "def remove_small_parties(df,threshold):\n",
    "    \"\"\"remove parties that didnt pass the threshold\"\"\"\n",
    "    \n",
    "    for column in df.columns[7:]:\n",
    "            if df[column].sum() < threshold:\n",
    "                   df = df.drop(column,axis=1)\n",
    "    return df"
   ]
  },
  {
   "cell_type": "code",
   "execution_count": 139,
   "metadata": {},
   "outputs": [],
   "source": [
    "def total_voters(df):\n",
    "    \"ploting a barchar from dataframe\"\n",
    "    dict={}\n",
    "    for c in df.columns[7:]:\n",
    "        dict[c]=(df[c].sum()/df['valid votes'].sum())*100\n",
    "    plt.figure(figsize=(20,10))\n",
    "    plt.bar(range(len(dict)), list(dict.values()), align='center')\n",
    "    plt.ylabel('Voter turnout')\n",
    "    plt.xlabel('Parties')\n",
    "    plt.xticks(range(len(dict)), list(dict.keys()))\n",
    "    plt.show()"
   ]
  },
  {
   "cell_type": "code",
   "execution_count": 140,
   "metadata": {},
   "outputs": [],
   "source": [
    "def unite_parties (df):\n",
    "    \"\"\" unites small parties to factions\n",
    "    \n",
    "    We think those factions represent the israeli society\n",
    "    \"\"\"\n",
    "    \n",
    "    d={'United Torah Judaism':'Haredi','Shas':'Haredi', 'Avoda':'Left','Meretz':'Left',\n",
    "       'Consolidation of right-wing parties':'Right','Kolano':'Right','Israel is our Home':'Right','New Right':'Right',\n",
    "        'UAL-Balad':'Arab','Hadash':'Arab' ,'Gesher Avoda':'Left','Joint list':'Arab','right':'Right'\n",
    "        ,'Avoda-Meretz-Gesher':'Left'}\n",
    "    \n",
    "    faction=['Haredi','Right','Arab','Left']\n",
    "    for f in faction:\n",
    "        df.insert(len(df.columns),f ,0)\n",
    "    for c in  df.columns[7:]:\n",
    "        if c in d:\n",
    "            s=df[d[c]]+df[c]\n",
    "            df[d[c]]=s\n",
    "   \n",
    "    for c in d.keys():\n",
    "        if c in df.columns:\n",
    "              df=df.drop(c,axis=1)\n",
    "    return df"
   ]
  },
  {
   "cell_type": "code",
   "execution_count": 141,
   "metadata": {},
   "outputs": [],
   "source": [
    "def normalize_to_voting_ratios(df):\n",
    "    \"\"\"normalizing the votes according to proportion of votes per party\"\"\"\n",
    "    \n",
    "    for i,r in df.iterrows():\n",
    "        for c in df.columns[7:]:\n",
    "            x = r[c]/r['valid votes']\n",
    "            df.at[i , c]=x\n",
    "    \n",
    "    colms_to_remove = [\"name\",\"Holders of voting rights\",\"Voters\",\"Disqualified\",\"valid votes\",\"committee code\"]\n",
    "    df = df.drop(labels = colms_to_remove,axis=1) \n",
    "    return df"
   ]
  },
  {
   "cell_type": "code",
   "execution_count": 142,
   "metadata": {},
   "outputs": [],
   "source": [
    "def unit_vector(vector):\n",
    "    \"\"\" Returns the unit vector of the vector.  \"\"\"\n",
    "    return vector / np.linalg.norm(vector)\n",
    "\n",
    "def angle_between(v1, v2):\n",
    "    \"\"\" \n",
    "    Returns the angle in radians between vectors 'v1' and 'v2'\n",
    "    \"\"\"\n",
    "    v1_u = unit_vector(v1)\n",
    "    v2_u = unit_vector(v2)\n",
    "    return np.arccos(np.clip(np.dot(v1_u, v2_u), -1.0, 1.0))\n",
    "\n",
    "def prepare_vectors(df):\n",
    "    \"\"\"calculates the distance and the angle if each vector from the base_vector\"\"\"\n",
    "    \n",
    "    matrix = [] \n",
    "    vector_base = np.zeros(df.shape[1])\n",
    "    vector_base.fill(1)\n",
    "    print(df.shape)\n",
    "\n",
    "    for row in df:\n",
    "        dist = np.linalg.norm(row)\n",
    "        angle = angle_between(vector_base,row)\n",
    "        matrix.append([dist,angle])\n",
    "        \n",
    "    return np.array(matrix)\n",
    "    "
   ]
  },
  {
   "cell_type": "code",
   "execution_count": 165,
   "metadata": {},
   "outputs": [],
   "source": [
    "def add_most_voted_colm(df):\n",
    "    \"\"\" adds a column of labels for the most voted faction \"\"\"\n",
    "    temp = df.copy()\n",
    "    temp.drop(labels = [\"code\"],axis=1,inplace = True)\n",
    "    \n",
    "    for c in temp.columns:\n",
    "        temp[c] = pd.to_numeric(temp[c])\n",
    "    \n",
    "    colm = temp.idxmax(axis=1)\n",
    "    df[\"chosen\"] = colm\n",
    "    return df\n",
    "        "
   ]
  },
  {
   "cell_type": "code",
   "execution_count": 169,
   "metadata": {},
   "outputs": [],
   "source": [
    "df_21 = get_data(SETTELMENT,21)\n",
    "df_21 = remove_small_parties(df_21,135720)\n",
    "df_21 = unite_parties(df_21)\n",
    "df_21 = normalize_to_voting_ratios(df_21)\n",
    "df_21 = add_most_voted_colm(df_21)\n",
    "vectors = df_21[df_21.columns.difference(['code','chosen'])]"
   ]
  },
  {
   "cell_type": "code",
   "execution_count": 170,
   "metadata": {
    "scrolled": false
   },
   "outputs": [
    {
     "name": "stdout",
     "output_type": "stream",
     "text": [
      "Fitting 1 folds for each of 36 candidates, totalling 36 fits\n"
     ]
    },
    {
     "name": "stderr",
     "output_type": "stream",
     "text": [
      "[Parallel(n_jobs=1)]: Using backend SequentialBackend with 1 concurrent workers.\n",
      "[Parallel(n_jobs=1)]: Done  36 out of  36 | elapsed:    1.4s finished\n"
     ]
    }
   ],
   "source": [
    "param = {\n",
    "    \"n_clusters\":[3,4,5],\n",
    "    \"init\":[\"k-means++\", \"random\"],\n",
    "    \"n_init\": [10],\n",
    "    \"max_iter\":[300],\n",
    "    \"precompute_distances\":[False,True],\n",
    "    \"random_state\":[SEED],\n",
    "    \"algorithm\" : [\"auto\", \"full\", \"elkan\"]\n",
    "\n",
    "}\n",
    "\n",
    "gs = GridSearchCV(KMeans(), param,  refit=True, cv=[(slice(None), slice(None))], verbose=1)\n",
    "gs.fit(vectors)\n",
    "model = gs.best_estimator_"
   ]
  },
  {
   "cell_type": "code",
   "execution_count": 219,
   "metadata": {},
   "outputs": [],
   "source": [
    "labels = model.labels_\n",
    "df_21['Cluster Class'] = pd.Series(labels, index=df_21.index)\n",
    "agg = df_21.groupby(['Cluster Class'])[\"chosen\"].value_counts()    "
   ]
  },
  {
   "cell_type": "code",
   "execution_count": 238,
   "metadata": {},
   "outputs": [
    {
     "data": {
      "text/html": [
       "<div>\n",
       "<style scoped>\n",
       "    .dataframe tbody tr th:only-of-type {\n",
       "        vertical-align: middle;\n",
       "    }\n",
       "\n",
       "    .dataframe tbody tr th {\n",
       "        vertical-align: top;\n",
       "    }\n",
       "\n",
       "    .dataframe thead th {\n",
       "        text-align: right;\n",
       "    }\n",
       "</style>\n",
       "<table border=\"1\" class=\"dataframe\">\n",
       "  <thead>\n",
       "    <tr style=\"text-align: right;\">\n",
       "      <th></th>\n",
       "      <th>code</th>\n",
       "      <th>Likud</th>\n",
       "      <th>Blue and white</th>\n",
       "      <th>Haredi</th>\n",
       "      <th>Right</th>\n",
       "      <th>Arab</th>\n",
       "      <th>Left</th>\n",
       "      <th>chosen</th>\n",
       "      <th>Cluster Class</th>\n",
       "    </tr>\n",
       "  </thead>\n",
       "  <tbody>\n",
       "    <tr>\n",
       "      <th>0</th>\n",
       "      <td>7</td>\n",
       "      <td>0.380054</td>\n",
       "      <td>0.266846</td>\n",
       "      <td>0.0943396</td>\n",
       "      <td>0.140162</td>\n",
       "      <td>0</td>\n",
       "      <td>0.0700809</td>\n",
       "      <td>Likud</td>\n",
       "      <td>0</td>\n",
       "    </tr>\n",
       "    <tr>\n",
       "      <th>1</th>\n",
       "      <td>10</td>\n",
       "      <td>0.52766</td>\n",
       "      <td>0.0212766</td>\n",
       "      <td>0.323404</td>\n",
       "      <td>0.0978723</td>\n",
       "      <td>0</td>\n",
       "      <td>0.0212766</td>\n",
       "      <td>Likud</td>\n",
       "      <td>0</td>\n",
       "    </tr>\n",
       "    <tr>\n",
       "      <th>2</th>\n",
       "      <td>11</td>\n",
       "      <td>0.291667</td>\n",
       "      <td>0.385417</td>\n",
       "      <td>0.00694444</td>\n",
       "      <td>0.128472</td>\n",
       "      <td>0</td>\n",
       "      <td>0.107639</td>\n",
       "      <td>Blue and white</td>\n",
       "      <td>1</td>\n",
       "    </tr>\n",
       "    <tr>\n",
       "      <th>3</th>\n",
       "      <td>13</td>\n",
       "      <td>0.0645161</td>\n",
       "      <td>0.620347</td>\n",
       "      <td>0.00992556</td>\n",
       "      <td>0.0843672</td>\n",
       "      <td>0</td>\n",
       "      <td>0.151365</td>\n",
       "      <td>Blue and white</td>\n",
       "      <td>1</td>\n",
       "    </tr>\n",
       "    <tr>\n",
       "      <th>4</th>\n",
       "      <td>15</td>\n",
       "      <td>0.767442</td>\n",
       "      <td>0.0232558</td>\n",
       "      <td>0.134884</td>\n",
       "      <td>0.0372093</td>\n",
       "      <td>0</td>\n",
       "      <td>0.00465116</td>\n",
       "      <td>Likud</td>\n",
       "      <td>0</td>\n",
       "    </tr>\n",
       "    <tr>\n",
       "      <th>...</th>\n",
       "      <td>...</td>\n",
       "      <td>...</td>\n",
       "      <td>...</td>\n",
       "      <td>...</td>\n",
       "      <td>...</td>\n",
       "      <td>...</td>\n",
       "      <td>...</td>\n",
       "      <td>...</td>\n",
       "      <td>...</td>\n",
       "    </tr>\n",
       "    <tr>\n",
       "      <th>1209</th>\n",
       "      <td>9500</td>\n",
       "      <td>0.345736</td>\n",
       "      <td>0.348962</td>\n",
       "      <td>0.0311208</td>\n",
       "      <td>0.15515</td>\n",
       "      <td>0.000545182</td>\n",
       "      <td>0.0561992</td>\n",
       "      <td>Blue and white</td>\n",
       "      <td>0</td>\n",
       "    </tr>\n",
       "    <tr>\n",
       "      <th>1210</th>\n",
       "      <td>9600</td>\n",
       "      <td>0.42007</td>\n",
       "      <td>0.206444</td>\n",
       "      <td>0.0320774</td>\n",
       "      <td>0.251161</td>\n",
       "      <td>0.000622397</td>\n",
       "      <td>0.0283909</td>\n",
       "      <td>Likud</td>\n",
       "      <td>0</td>\n",
       "    </tr>\n",
       "    <tr>\n",
       "      <th>1211</th>\n",
       "      <td>9700</td>\n",
       "      <td>0.204511</td>\n",
       "      <td>0.536063</td>\n",
       "      <td>0.0203736</td>\n",
       "      <td>0.0696552</td>\n",
       "      <td>0.00126437</td>\n",
       "      <td>0.121925</td>\n",
       "      <td>Blue and white</td>\n",
       "      <td>1</td>\n",
       "    </tr>\n",
       "    <tr>\n",
       "      <th>1212</th>\n",
       "      <td>9800</td>\n",
       "      <td>0.183213</td>\n",
       "      <td>0.507934</td>\n",
       "      <td>0.0119344</td>\n",
       "      <td>0.0754098</td>\n",
       "      <td>0.00314754</td>\n",
       "      <td>0.166557</td>\n",
       "      <td>Blue and white</td>\n",
       "      <td>1</td>\n",
       "    </tr>\n",
       "    <tr>\n",
       "      <th>1213</th>\n",
       "      <td>99999</td>\n",
       "      <td>0.293411</td>\n",
       "      <td>0.28767</td>\n",
       "      <td>0.075931</td>\n",
       "      <td>0.142617</td>\n",
       "      <td>0.0292603</td>\n",
       "      <td>0.080671</td>\n",
       "      <td>Likud</td>\n",
       "      <td>0</td>\n",
       "    </tr>\n",
       "  </tbody>\n",
       "</table>\n",
       "<p>1214 rows × 9 columns</p>\n",
       "</div>"
      ],
      "text/plain": [
       "       code      Likud Blue and white      Haredi      Right         Arab  \\\n",
       "0         7   0.380054       0.266846   0.0943396   0.140162            0   \n",
       "1        10    0.52766      0.0212766    0.323404  0.0978723            0   \n",
       "2        11   0.291667       0.385417  0.00694444   0.128472            0   \n",
       "3        13  0.0645161       0.620347  0.00992556  0.0843672            0   \n",
       "4        15   0.767442      0.0232558    0.134884  0.0372093            0   \n",
       "...     ...        ...            ...         ...        ...          ...   \n",
       "1209   9500   0.345736       0.348962   0.0311208    0.15515  0.000545182   \n",
       "1210   9600    0.42007       0.206444   0.0320774   0.251161  0.000622397   \n",
       "1211   9700   0.204511       0.536063   0.0203736  0.0696552   0.00126437   \n",
       "1212   9800   0.183213       0.507934   0.0119344  0.0754098   0.00314754   \n",
       "1213  99999   0.293411        0.28767    0.075931   0.142617    0.0292603   \n",
       "\n",
       "            Left          chosen  Cluster Class  \n",
       "0      0.0700809           Likud              0  \n",
       "1      0.0212766           Likud              0  \n",
       "2       0.107639  Blue and white              1  \n",
       "3       0.151365  Blue and white              1  \n",
       "4     0.00465116           Likud              0  \n",
       "...          ...             ...            ...  \n",
       "1209   0.0561992  Blue and white              0  \n",
       "1210   0.0283909           Likud              0  \n",
       "1211    0.121925  Blue and white              1  \n",
       "1212    0.166557  Blue and white              1  \n",
       "1213    0.080671           Likud              0  \n",
       "\n",
       "[1214 rows x 9 columns]"
      ]
     },
     "execution_count": 238,
     "metadata": {},
     "output_type": "execute_result"
    }
   ],
   "source": [
    "df = pd.read_csv(\"https://github.com/selva86/datasets/raw/master/mpg_ggplot2.csv\")\n",
    "df_21"
   ]
  },
  {
   "cell_type": "code",
   "execution_count": 259,
   "metadata": {},
   "outputs": [
    {
     "data": {
      "image/png": "[encoded data removed]",
      "text/plain": [
       "<Figure size 1280x720 with 1 Axes>"
      ]
     },
     "metadata": {
      "needs_background": "light"
     },
     "output_type": "display_data"
    }
   ],
   "source": [
    "\n",
    "\n",
    "# Prepare data\n",
    "x_var = 'Cluster Class'\n",
    "groupby_var = 'chosen'\n",
    "df_agg = df_21.loc[:, [x_var, groupby_var]].groupby(groupby_var)\n",
    "vals = [df_21[x_var].values.tolist() for i, df_21 in df_agg]\n",
    "\n",
    "# Draw\n",
    "plt.figure(figsize=(16,9), dpi= 80)\n",
    "colors = [plt.cm.Spectral(i/float(len(vals)-1)) for i in range(len(vals))]\n",
    "n, bins, patches = plt.hist(vals, df_21[x_var].unique().__len__(), stacked=True, density=False, color=colors[:len(vals)])\n",
    "\n",
    "# Decoration\n",
    "plt.legend({group:col for group, col in zip(np.unique(df_21[groupby_var]).tolist(), colors[:len(vals)])})\n",
    "plt.title(f\"Stacked Histogram of ${x_var}$ colored by ${groupby_var}$\", fontsize=22)\n",
    "plt.xlabel(x_var)\n",
    "plt.ylabel(\"Frequency\")\n",
    "plt.ylim(0, 1000)\n",
    "plt.xticks(ticks=bins, labels=np.unique(df_21[x_var]).tolist(), rotation=90, horizontalalignment='left')\n",
    "plt.show()"
   ]
  },
  {
   "cell_type": "code",
   "execution_count": 233,
   "metadata": {},
   "outputs": [
    {
     "data": {
      "text/plain": [
       "<Figure size 1440x720 with 0 Axes>"
      ]
     },
     "metadata": {},
     "output_type": "display_data"
    },
    {
     "data": {
      "image/png": "[encoded data removed]",
      "text/plain": [
       "<Figure size 432x288 with 1 Axes>"
      ]
     },
     "metadata": {},
     "output_type": "display_data"
    },
    {
     "data": {
      "text/plain": [
       "<Figure size 1440x720 with 0 Axes>"
      ]
     },
     "metadata": {},
     "output_type": "display_data"
    },
    {
     "data": {
      "image/png": "[encoded data removed]",
      "text/plain": [
       "<Figure size 432x288 with 1 Axes>"
      ]
     },
     "metadata": {},
     "output_type": "display_data"
    },
    {
     "data": {
      "text/plain": [
       "<Figure size 1440x720 with 0 Axes>"
      ]
     },
     "metadata": {},
     "output_type": "display_data"
    },
    {
     "data": {
      "image/png": "[encoded data removed]",
      "text/plain": [
       "<Figure size 432x288 with 1 Axes>"
      ]
     },
     "metadata": {},
     "output_type": "display_data"
    },
    {
     "data": {
      "text/plain": [
       "<Figure size 1440x720 with 0 Axes>"
      ]
     },
     "metadata": {},
     "output_type": "display_data"
    },
    {
     "data": {
      "image/png": "[encoded data removed]",
      "text/plain": [
       "<Figure size 432x288 with 1 Axes>"
      ]
     },
     "metadata": {},
     "output_type": "display_data"
    },
    {
     "data": {
      "text/plain": [
       "<Figure size 1440x720 with 0 Axes>"
      ]
     },
     "metadata": {},
     "output_type": "display_data"
    },
    {
     "data": {
      "image/png": "[encoded data removed]",
      "text/plain": [
       "<Figure size 432x288 with 1 Axes>"
      ]
     },
     "metadata": {},
     "output_type": "display_data"
    }
   ],
   "source": [
    "labels_p = [] \n",
    "sizes = []\n",
    "\n",
    "# Pie chart, where the slices will be ordered and plotted counter-clockwise:\n",
    "for cluster in np.unique(labels):\n",
    "    for label,value in agg[cluster].items():\n",
    "        labels_p.append(label)\n",
    "        sizes.append(value)\n",
    "        \n",
    "    plt.figure(figsize=(20,10))\n",
    "    fig1, ax1 = plt.subplots()\n",
    "    ax1.pie(sizes, labels=labels_p, autopct='%1.1f%%',\n",
    "        shadow=True, startangle=90)\n",
    "    ax1.axis('equal')  # Equal aspect ratio ensures that pie is drawn as a circle.\n",
    "    labels_p.clear()\n",
    "    sizes.clear()\n",
    "plt.show()"
   ]
  },
  {
   "cell_type": "code",
   "execution_count": null,
   "metadata": {},
   "outputs": [],
   "source": []
  },
  {
   "cell_type": "code",
   "execution_count": null,
   "metadata": {},
   "outputs": [],
   "source": [
    "\n",
    "plt.figure(figsize=(20,10))\n",
    "plt.scatter(vectors[:,0],vectors[:,1],c=y)\n",
    "plt.title(\"Incorrect Number of Blobs\")"
   ]
  },
  {
   "cell_type": "code",
   "execution_count": null,
   "metadata": {},
   "outputs": [],
   "source": [
    "df_bycode = get_bycode()\n",
    "types = get_index(SETTLEMENT_TYPE)\n",
    "bycode_ele = inner_join(df_21,df_bycode,\"code\")\n",
    "super_df =  inner_join(bycode_ele,types,\"Settlement type code\")\n",
    "settelments = super_df[\"Settlement type\"].values"
   ]
  }
 ],
 "metadata": {
  "kernelspec": {
   "display_name": "Python 3",
   "language": "python",
   "name": "python3"
  },
  "language_info": {
   "codemirror_mode": {
    "name": "ipython",
    "version": 3
   },
   "file_extension": ".py",
   "mimetype": "text/x-python",
   "name": "python",
   "nbconvert_exporter": "python",
   "pygments_lexer": "ipython3",
   "version": "3.7.6"
  }
 },
 "nbformat": 4,
 "nbformat_minor": 4
}
